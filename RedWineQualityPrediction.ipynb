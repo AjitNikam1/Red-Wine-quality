{
  "nbformat": 4,
  "nbformat_minor": 0,
  "metadata": {
    "colab": {
      "name": "RedWineQualityPrediction.ipynb",
      "version": "0.3.2",
      "provenance": [],
      "collapsed_sections": [],
      "include_colab_link": true
    },
    "kernelspec": {
      "name": "python3",
      "display_name": "Python 3"
    }
  },
  "cells": [
    {
      "cell_type": "markdown",
      "metadata": {
        "id": "view-in-github",
        "colab_type": "text"
      },
      "source": [
        "<a href=\"https://colab.research.google.com/github/AjitNikam1/Red-Wine-quality/blob/master/RedWineQualityPrediction.ipynb\" target=\"_parent\"><img src=\"https://colab.research.google.com/assets/colab-badge.svg\" alt=\"Open In Colab\"/></a>"
      ]
    },
    {
      "cell_type": "code",
      "metadata": {
        "id": "w1HO3FzVpVva",
        "colab_type": "code",
        "colab": {}
      },
      "source": [
        ""
      ],
      "execution_count": 0,
      "outputs": []
    },
    {
      "cell_type": "markdown",
      "metadata": {
        "id": "tqRVlVYipWyI",
        "colab_type": "text"
      },
      "source": [
        "##Machine Learning Project -Red Wine quality\n",
        "In this problem, the goal is to model the quality of red wine based on its physical properties. This dataset consists of attributes related to the red wine variant of the Portuguese \"Vinho Verde\" wine\n",
        "\n",
        "###Import Required Packages"
      ]
    },
    {
      "cell_type": "code",
      "metadata": {
        "id": "6ufZaPKipeRD",
        "colab_type": "code",
        "colab": {}
      },
      "source": [
        "import pandas as pd\n",
        "import numpy as np\n",
        "from IPython.core.interactiveshell import InteractiveShell\n",
        "InteractiveShell.ast_node_interactivity = \"all\""
      ],
      "execution_count": 0,
      "outputs": []
    },
    {
      "cell_type": "markdown",
      "metadata": {
        "id": "IuWIwYbMqEyX",
        "colab_type": "text"
      },
      "source": [
        "### Read the Data from .csv file "
      ]
    },
    {
      "cell_type": "code",
      "metadata": {
        "id": "v09m8Jy1qM52",
        "colab_type": "code",
        "colab": {
          "base_uri": "https://localhost:8080/",
          "height": 364
        },
        "outputId": "7301396d-5065-4fdf-fd3f-02037282c7b6"
      },
      "source": [
        "# url = 'https://github.com/AjitNikam1/Red-Wine-quality/blob/master/winequality-red.csv'\n",
        "RedWineData = pd.read_csv('https://github.com/AjitNikam1/Red-Wine-quality/blob/master/winequality-red.csv',error_bad_lines=False)\n",
        "RedWineData.head()\n",
        "RedWineData.info()\n",
        "RedWineData.shape\n",
        "RedWineData.columns"
      ],
      "execution_count": 21,
      "outputs": [
        {
          "output_type": "stream",
          "text": [
            "b'Skipping line 75: expected 1 fields, saw 7\\nSkipping line 124: expected 1 fields, saw 3\\nSkipping line 141: expected 1 fields, saw 9\\nSkipping line 142: expected 1 fields, saw 3\\nSkipping line 166: expected 1 fields, saw 4\\nSkipping line 170: expected 1 fields, saw 2\\nSkipping line 172: expected 1 fields, saw 2\\nSkipping line 173: expected 1 fields, saw 2\\nSkipping line 174: expected 1 fields, saw 2\\nSkipping line 175: expected 1 fields, saw 2\\nSkipping line 176: expected 1 fields, saw 2\\nSkipping line 177: expected 1 fields, saw 2\\nSkipping line 178: expected 1 fields, saw 2\\nSkipping line 179: expected 1 fields, saw 2\\nSkipping line 180: expected 1 fields, saw 2\\nSkipping line 184: expected 1 fields, saw 2\\nSkipping line 185: expected 1 fields, saw 2\\nSkipping line 191: expected 1 fields, saw 2\\nSkipping line 199: expected 1 fields, saw 4\\nSkipping line 205: expected 1 fields, saw 2\\nSkipping line 210: expected 1 fields, saw 2\\nSkipping line 211: expected 1 fields, saw 2\\nSkipping line 212: expected 1 fields, saw 2\\nSkipping line 213: expected 1 fields, saw 2\\nSkipping line 214: expected 1 fields, saw 2\\nSkipping line 219: expected 1 fields, saw 2\\nSkipping line 220: expected 1 fields, saw 2\\nSkipping line 221: expected 1 fields, saw 2\\nSkipping line 228: expected 1 fields, saw 2\\nSkipping line 236: expected 1 fields, saw 4\\nSkipping line 241: expected 1 fields, saw 2\\nSkipping line 244: expected 1 fields, saw 2\\nSkipping line 245: expected 1 fields, saw 2\\nSkipping line 249: expected 1 fields, saw 2\\nSkipping line 250: expected 1 fields, saw 2\\nSkipping line 272: expected 1 fields, saw 2\\nSkipping line 409: expected 1 fields, saw 9\\nSkipping line 410: expected 1 fields, saw 3\\nSkipping line 415: expected 1 fields, saw 9\\nSkipping line 416: expected 1 fields, saw 3\\nSkipping line 462: expected 1 fields, saw 9\\nSkipping line 473: expected 1 fields, saw 9\\nSkipping line 485: expected 1 fields, saw 9\\nSkipping line 618: expected 1 fields, saw 3\\nSkipping line 622: expected 1 fields, saw 3\\nSkipping line 623: expected 1 fields, saw 11\\nSkipping line 7182: expected 1 fields, saw 2\\nSkipping line 7183: expected 1 fields, saw 3\\nSkipping line 7184: expected 1 fields, saw 3\\nSkipping line 7185: expected 1 fields, saw 3\\nSkipping line 7186: expected 1 fields, saw 3\\nSkipping line 7187: expected 1 fields, saw 3\\nSkipping line 7194: expected 1 fields, saw 3\\nSkipping line 7195: expected 1 fields, saw 3\\nSkipping line 7196: expected 1 fields, saw 3\\nSkipping line 7197: expected 1 fields, saw 3\\nSkipping line 7198: expected 1 fields, saw 3\\nSkipping line 7199: expected 1 fields, saw 3\\n'\n"
          ],
          "name": "stderr"
        },
        {
          "output_type": "execute_result",
          "data": {
            "text/html": [
              "<div>\n",
              "<style scoped>\n",
              "    .dataframe tbody tr th:only-of-type {\n",
              "        vertical-align: middle;\n",
              "    }\n",
              "\n",
              "    .dataframe tbody tr th {\n",
              "        vertical-align: top;\n",
              "    }\n",
              "\n",
              "    .dataframe thead th {\n",
              "        text-align: right;\n",
              "    }\n",
              "</style>\n",
              "<table border=\"1\" class=\"dataframe\">\n",
              "  <thead>\n",
              "    <tr style=\"text-align: right;\">\n",
              "      <th></th>\n",
              "      <th>&lt;!DOCTYPE html&gt;</th>\n",
              "    </tr>\n",
              "  </thead>\n",
              "  <tbody>\n",
              "    <tr>\n",
              "      <th>0</th>\n",
              "      <td>&lt;html lang=\"en\"&gt;</td>\n",
              "    </tr>\n",
              "    <tr>\n",
              "      <th>1</th>\n",
              "      <td>&lt;head&gt;</td>\n",
              "    </tr>\n",
              "    <tr>\n",
              "      <th>2</th>\n",
              "      <td>&lt;meta charset=\"utf-8\"&gt;</td>\n",
              "    </tr>\n",
              "    <tr>\n",
              "      <th>3</th>\n",
              "      <td>&lt;link rel=\"dns-prefetch\" href=\"https://githu...</td>\n",
              "    </tr>\n",
              "    <tr>\n",
              "      <th>4</th>\n",
              "      <td>&lt;link rel=\"dns-prefetch\" href=\"https://avata...</td>\n",
              "    </tr>\n",
              "  </tbody>\n",
              "</table>\n",
              "</div>"
            ],
            "text/plain": [
              "                                     <!DOCTYPE html>\n",
              "0                                   <html lang=\"en\">\n",
              "1                                             <head>\n",
              "2                             <meta charset=\"utf-8\">\n",
              "3    <link rel=\"dns-prefetch\" href=\"https://githu...\n",
              "4    <link rel=\"dns-prefetch\" href=\"https://avata..."
            ]
          },
          "metadata": {
            "tags": []
          },
          "execution_count": 21
        },
        {
          "output_type": "stream",
          "text": [
            "<class 'pandas.core.frame.DataFrame'>\n",
            "RangeIndex: 6960 entries, 0 to 6959\n",
            "Data columns (total 1 columns):\n",
            "<!DOCTYPE html>    6960 non-null object\n",
            "dtypes: object(1)\n",
            "memory usage: 54.5+ KB\n"
          ],
          "name": "stdout"
        },
        {
          "output_type": "execute_result",
          "data": {
            "text/plain": [
              "(6960, 1)"
            ]
          },
          "metadata": {
            "tags": []
          },
          "execution_count": 21
        },
        {
          "output_type": "execute_result",
          "data": {
            "text/plain": [
              "Index(['<!DOCTYPE html>'], dtype='object')"
            ]
          },
          "metadata": {
            "tags": []
          },
          "execution_count": 21
        }
      ]
    }
  ]
}